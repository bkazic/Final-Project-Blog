{
 "metadata": {
  "name": "",
  "signature": "sha256:b77a0087bd38b3290afea868e18e40df3e1929a0f8f1ec201c6be4024b645dcf"
 },
 "nbformat": 3,
 "nbformat_minor": 0,
 "worksheets": [
  {
   "cells": [
    {
     "cell_type": "heading",
     "level": 1,
     "metadata": {},
     "source": [
      "Traffic Flow Prediction"
     ]
    },
    {
     "cell_type": "heading",
     "level": 3,
     "metadata": {},
     "source": [
      "Intro to Data Science: Final Project Blog"
     ]
    },
    {
     "cell_type": "markdown",
     "metadata": {},
     "source": [
      "Since the time when first car was invented, the car production is rapidly increasing. All \n",
      "over the world number of cars is growing faster than new roads construction (especially \n",
      "in developing world). This means the traffic flow is not optimal everywhere at all time. \n",
      "This  problem  can  be  explained  if  we  consider  traffic  as  demand  and  supply  problem. \n",
      "Demand  is  obtained  from  number  of  vehicles  at  particular  time  and  particular  place, \n",
      "where  supply  is  considered  as  road  capacities,  speed  limitations  and  other  traffic \n",
      "characteristics.  If  the  demand  outgrows  supply,  traffic  congestion  is  the  result.  This \n",
      "complex nonlinear correlation between demand and supply can be modelled and this has \n",
      "been a focus of research for many researchers in the next few decades.\n",
      "\n",
      "Traffic  congestions  can  have  substantial  effects  on  quality  of  life,  especially  in  bigger \n",
      "cities. It is estimated that traffic congestions in United States waste 2 billion gallons of \n",
      "fuel per year. 135 million US drivers spend 2 billion hours trapped per year.  Altogether, \n",
      "100 billion USD are spent because of fuel in US only. For an average American driver, \n",
      "this  means  800  USD  per  year.  Beside \n",
      "economical  part  of  view  (saving  money  and  time),  there  is  also  ecological  one.  The \n",
      "pollution could be reduced significantly by reducing the traveling time and thus reducing \n",
      "the emission.\n",
      "\n",
      "The  above  mentioned  astonishing  facts,  are  the  main  reasons  why  governments  are \n",
      "investing in  Intelligent  Transportation  Systems  (for short,  ITS) technologies that would \n",
      "lead to more efficient use of transportation network. This advanced applications aims to \n",
      "provide innovative services related to traffic management and transportation that result to \n",
      "reducing  traffic  congestions,  emissions,  energy  consumptions,  delays  and  improved \n",
      "safety.\n",
      "\n",
      "<img src=\"http://khongthe.com/wallpapers/abstract/mini-traffic-jam-10593.jpg\" width=\"40%\" height=\"40%\">"
     ]
    },
    {
     "cell_type": "heading",
     "level": 2,
     "metadata": {},
     "source": [
      "Introduction"
     ]
    },
    {
     "cell_type": "markdown",
     "metadata": {},
     "source": [
      "For the last  three  decades, traffic prediction was an interesting topic of many researchers. \n",
      "The availability of large amount of traffic related data, collected from a variety of sources\n",
      "and  emerging  field  of  sophisticated  machine  learning  algorithms  has  led  to  significant \n",
      "leap  from  analytical  modelling  to  data  driven  modelling  approaches.  The  traffic \n",
      "prediction  models  have  become  a  main  component  of  most  Intelligent  Transportation \n",
      "Systems (ITS). Accurate real time information and traffic flow prediction of parameters (such as traffic \n",
      "volume,  occupancy,  travel  time\u2026)  is  a  crucial  component  for  almost  every  ITS. \n",
      "\n",
      "\n",
      "ITS very in technologies applied;  from  advanced  travel  information  systems  (ATIS),  variable  message  signs \n",
      "(VMS), traffic signal control systems, to special user friendly applications such as travel \n",
      "advisors and information systems that provides relevant content like special road traffic \n",
      "events, parking guidance, weather information and so on. \n",
      "The aim of them all is the same, to  ease traffic  flow, reduce traffic congestions and \n",
      "decrease travel time with advising drivers about their routes, time of departure,  or even \n",
      "type of transportation.\n"
     ]
    },
    {
     "cell_type": "heading",
     "level": 2,
     "metadata": {},
     "source": [
      "Data"
     ]
    },
    {
     "cell_type": "markdown",
     "metadata": {},
     "source": [
      "For this research we used the traffic loop sensor measurement data for Slovenia. There are 447 loop sensros installed inside the Slovenian roads (see figure). Every sensor data contains meta data information (such as location of the sensor, direction, region), as well as some regular traffic status measurements (such as flow, gap, occupancy, speed, traffic status). Real-time data stream is refresed every 5 minutes and is accesible via web API in JSON format at http://opendata.si/promet/counters/.\n",
      "\n",
      "This service has been continouslly crawled for the last 6 months by which we have created a historical dump of traffic related data, with 5 minutes resampling interval, for all 447 sensors. The availability of large amount of data makes this problem highly suitable for several machine learning methods.\n",
      "\n",
      "<img src=\"files/Figures/counters.png\" />"
     ]
    },
    {
     "cell_type": "heading",
     "level": 3,
     "metadata": {},
     "source": [
      "Exploratory Data Analysis"
     ]
    },
    {
     "cell_type": "markdown",
     "metadata": {},
     "source": [
      "rom the previously mentioned database, we have created a dump file (in csv format) for one specific traffic loop sensor (*SensorID: 0178_11*) on one of the most busiest road, located on the bypass of the Slovenias capital city Ljubljana. This 6 months long historical data dump will be used for furhter analysis in this research."
     ]
    },
    {
     "cell_type": "code",
     "collapsed": false,
     "input": [
      "%matplotlib inline\n",
      "#from IPython.display import FileLink, FileLinks\n",
      "import pandas as pd\n",
      "import numpy as np\n",
      "import matplotlib.pyplot as plt"
     ],
     "language": "python",
     "metadata": {},
     "outputs": [],
     "prompt_number": 6
    },
    {
     "cell_type": "code",
     "collapsed": false,
     "input": [
      "# Import data from csv\n",
      "traffic_file_path = \"Data/0178_11.csv\"\n",
      "traffic_data = pd.read_csv(traffic_file_path)\n",
      "traffic_data = pd.read_csv(traffic_file_path, header=None, \n",
      "                               names=[\"SensorID\",\"DateTime\",\"Flow\",\"Gap\",\"Occupancy\",\"Speed\",\"TrafficStatus\"], \n",
      "                               index_col='DateTime', parse_dates=True, dayfirst=True)\n",
      "\n",
      "traffic_data.head()\n",
      "#traffic_data[15:25]"
     ],
     "language": "python",
     "metadata": {},
     "outputs": [
      {
       "ename": "NameError",
       "evalue": "name 'pandas' is not defined",
       "output_type": "pyerr",
       "traceback": [
        "\u001b[1;31m---------------------------------------------------------------------------\u001b[0m\n\u001b[1;31mNameError\u001b[0m                                 Traceback (most recent call last)",
        "\u001b[1;32m<ipython-input-7-1d92b46ae39a>\u001b[0m in \u001b[0;36m<module>\u001b[1;34m()\u001b[0m\n\u001b[0;32m      1\u001b[0m \u001b[1;31m# Import data from csv\u001b[0m\u001b[1;33m\u001b[0m\u001b[1;33m\u001b[0m\u001b[0m\n\u001b[0;32m      2\u001b[0m \u001b[0mtraffic_file_path\u001b[0m \u001b[1;33m=\u001b[0m \u001b[1;34m\"Data/0178_11.csv\"\u001b[0m\u001b[1;33m\u001b[0m\u001b[0m\n\u001b[1;32m----> 3\u001b[1;33m \u001b[0mtraffic_data\u001b[0m \u001b[1;33m=\u001b[0m \u001b[0mpandas\u001b[0m\u001b[1;33m.\u001b[0m\u001b[0mread_csv\u001b[0m\u001b[1;33m(\u001b[0m\u001b[0mtraffic_file_path\u001b[0m\u001b[1;33m)\u001b[0m\u001b[1;33m\u001b[0m\u001b[0m\n\u001b[0m\u001b[0;32m      4\u001b[0m traffic_data = pandas.read_csv(traffic_file_path, header=None, \n\u001b[0;32m      5\u001b[0m                                \u001b[0mnames\u001b[0m\u001b[1;33m=\u001b[0m\u001b[1;33m[\u001b[0m\u001b[1;34m\"SensorID\"\u001b[0m\u001b[1;33m,\u001b[0m\u001b[1;34m\"DateTime\"\u001b[0m\u001b[1;33m,\u001b[0m\u001b[1;34m\"Flow\"\u001b[0m\u001b[1;33m,\u001b[0m\u001b[1;34m\"Gap\"\u001b[0m\u001b[1;33m,\u001b[0m\u001b[1;34m\"Occupancy\"\u001b[0m\u001b[1;33m,\u001b[0m\u001b[1;34m\"Speed\"\u001b[0m\u001b[1;33m,\u001b[0m\u001b[1;34m\"TrafficStatus\"\u001b[0m\u001b[1;33m]\u001b[0m\u001b[1;33m,\u001b[0m\u001b[1;33m\u001b[0m\u001b[0m\n",
        "\u001b[1;31mNameError\u001b[0m: name 'pandas' is not defined"
       ]
      }
     ],
     "prompt_number": 7
    },
    {
     "cell_type": "heading",
     "level": 3,
     "metadata": {},
     "source": [
      "Data Munging"
     ]
    },
    {
     "cell_type": "markdown",
     "metadata": {},
     "source": [
      "With a basic sanity check we can see some interesting finding. "
     ]
    },
    {
     "cell_type": "code",
     "collapsed": false,
     "input": [
      "traffic_data.describe()"
     ],
     "language": "python",
     "metadata": {},
     "outputs": []
    },
    {
     "cell_type": "heading",
     "level": 4,
     "metadata": {},
     "source": [
      "Corrupt data"
     ]
    },
    {
     "cell_type": "markdown",
     "metadata": {},
     "source": [
      "The first thing that looks suspicious are all the zero values at min row. For example, we know that TrafficStatus parameter can have values only between 1 and 5. This makes us question also other zero values. If we check the records where speed is zero, we can clearly see that something is wrong, because if speed would really be zero due to some hevy traffic congestion, than Occupancy parameter shouldn't be zero, but something big. Also from the DateTime parameter we can see that something is wrong. We can conclude that all the records where all the parameters are 0 are corrupted, therefore we will mark them as NaN (null) and consider them as missing values. "
     ]
    },
    {
     "cell_type": "code",
     "collapsed": false,
     "input": [
      "traffic_data[traffic_data[\"Speed\"]==0].head()\n",
      "# Upper code finds the same records as this bellow\n",
      "#traffic_data[(traffic_data[\"Flow\"]==0) & (traffic_data[\"Gap\"]==0) & (traffic_data[\"Occupancy\"]==0) & (traffic_data[\"Speed\"]==0) & (traffic_data[\"TrafficStatus\"]==0)].count()"
     ],
     "language": "python",
     "metadata": {},
     "outputs": []
    },
    {
     "cell_type": "code",
     "collapsed": false,
     "input": [
      "traffic_data[traffic_data[\"Speed\"]==0] = np.nan"
     ],
     "language": "python",
     "metadata": {},
     "outputs": []
    },
    {
     "cell_type": "heading",
     "level": 4,
     "metadata": {},
     "source": [
      "Missing values"
     ]
    },
    {
     "cell_type": "markdown",
     "metadata": {},
     "source": [
      "Another obvious irragularitie can be seen from the DateTime column, where we can see some duplicated records. As it turns out, this are actually the missing values, but since the web API is not updated when the data are not streaming this creates duplicate values in the historical dump."
     ]
    },
    {
     "cell_type": "code",
     "collapsed": false,
     "input": [
      "# Example of missing data\n",
      "traffic_data[17:23]"
     ],
     "language": "python",
     "metadata": {},
     "outputs": []
    },
    {
     "cell_type": "markdown",
     "metadata": {},
     "source": [
      "Therefore we have to detect this duplicates and mark them as Nan (null)."
     ]
    },
    {
     "cell_type": "code",
     "collapsed": false,
     "input": [
      "traffic_data.drop_duplicates(inplace=True)\n",
      "traffic_data[17:23]"
     ],
     "language": "python",
     "metadata": {},
     "outputs": []
    },
    {
     "cell_type": "code",
     "collapsed": false,
     "input": [
      "#traffic_data.index.max()\n",
      "idx = pd.date_range(start=traffic_data.index.min(),end=traffic_data.index.max(), freq=\"5min\")\n",
      "traffic_data = traffic_data.reindex(idx)\n",
      "traffic_data[17:23]"
     ],
     "language": "python",
     "metadata": {},
     "outputs": []
    },
    {
     "cell_type": "markdown",
     "metadata": {},
     "source": [
      "Now that all corrupted data and missing data have value Nan, we can decide what to do with missing data. For now we will just delete them, because we still have a lot of other records. It is not that trivial to replace missing values if they missing for a whole day or more. Previous value imputation, or some linear interpolation would not be a good idea in this case. We would probablly need to use something like linear regression to replace missing values."
     ]
    },
    {
     "cell_type": "code",
     "collapsed": false,
     "input": [
      "traffic_data.dropna(inplace=True)\n",
      "traffic_data[17:23]"
     ],
     "language": "python",
     "metadata": {},
     "outputs": []
    },
    {
     "cell_type": "markdown",
     "metadata": {},
     "source": [
      "If we perform the sanity check again, we can see that the data looks better now. Mininmum row does not contain zeros any more. We can also notice that the Speed mean slightly increased (from 96.8 *km/h* to 97.3 *km/h*), due to deleted corrupted zero values."
     ]
    },
    {
     "cell_type": "code",
     "collapsed": false,
     "input": [
      "traffic_data.describe()"
     ],
     "language": "python",
     "metadata": {},
     "outputs": []
    },
    {
     "cell_type": "heading",
     "level": 4,
     "metadata": {},
     "source": [
      "Problem with predicting speed parameter"
     ]
    },
    {
     "cell_type": "markdown",
     "metadata": {},
     "source": [
      "We can see another important finidng, if we compare standard deviation values between traffic parameters, see that speed variable has a very low standard deviation value (8.9 *km/h*) in comparison with mean value (96.8 *km/h*). This means that the value does not vary a lot around the mean value, meaning that speed parameter is more or less all the time near speed limit, no matter the state of traffic. In contrast, flow parameter for example varies a lot during the day. We can clearlly see increased traffic flow in the mornings and afternoons (rushours) and decreased traffic by night. This is one of the main reasons why most of the researchers do not use speed parameter as target parameter for prediction. For the same reason, in this reaserch flow parameter was choosen as target parameter.\n",
      "<font color='red'>TODO: </font> add one week speed and flow graph."
     ]
    },
    {
     "cell_type": "heading",
     "level": 4,
     "metadata": {},
     "source": [
      "Add a target column"
     ]
    },
    {
     "cell_type": "markdown",
     "metadata": {},
     "source": [
      "<font color='red'>TODO: </font> add Target variable. Since I want to predict flow, target value will be flow, but shifted for one hour back!"
     ]
    },
    {
     "cell_type": "code",
     "collapsed": false,
     "input": [
      "\"\"\"\n",
      "TODO:\n",
      "- create a new column that is the same as Flow\n",
      "- shift/lag this column\n",
      "- check other notebooks if they did something similar\n",
      "\"\"\"\n",
      "\n",
      "traffic_data\n"
     ],
     "language": "python",
     "metadata": {},
     "outputs": []
    },
    {
     "cell_type": "markdown",
     "metadata": {},
     "source": [
      "<font color='red'>TODO: </font> perform some statistics. Weekends and non-weekends for example."
     ]
    },
    {
     "cell_type": "markdown",
     "metadata": {},
     "source": [
      "<img src=\"http://i.imgur.com/OEtRTbd.png\" width=\"40%\" height=\"40%\"> "
     ]
    }
   ],
   "metadata": {}
  }
 ]
}